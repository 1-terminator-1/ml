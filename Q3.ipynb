{
 "cells": [
  {
   "cell_type": "markdown",
   "id": "5f42a3ce",
   "metadata": {},
   "source": [
    "<h1 align=\"center\">Introduction to Machine Learning - 25737-2</h1>\n",
    "<h4 align=\"center\">Dr. R. Amiri</h4>\n",
    "<h4 align=\"center\">Sharif University of Technology, Spring 2024</h4>\n",
    "\n",
    "\n",
    "**<font color='red'>Plagiarism is strongly prohibited!</font>**\n",
    "\n",
    "\n",
    "**Student Name**: matin mohamad ghasemi \n",
    "\n",
    "**Student ID**: 400101872\n",
    "\n",
    "\n",
    "\n"
   ]
  },
  {
   "cell_type": "markdown",
   "id": "a01c559e",
   "metadata": {},
   "source": [
    "## Importing Libraries\n",
    "\n",
    "First we import libraries that we need for this assignment."
   ]
  },
  {
   "cell_type": "code",
   "execution_count": 1,
   "id": "0423187e",
   "metadata": {},
   "outputs": [],
   "source": [
    "import numpy as np\n",
    "import pandas as pd\n",
    "import matplotlib.pyplot as plt\n",
    "from sklearn.model_selection import train_test_split\n",
    "from sklearn.discriminant_analysis import LinearDiscriminantAnalysis\n",
    "from sklearn.metrics import accuracy_score\n",
    "from sklearn.naive_bayes import GaussianNB"
   ]
  },
  {
   "cell_type": "markdown",
   "id": "2f795731",
   "metadata": {},
   "source": [
    "## Reading Data and Preprocessing\n",
    "\n",
    "In this section, we want to read data from a CSV file and then preprocess it to make it ready for the rest of the problem.\n",
    "\n",
    "First, we read the data in the cell below and extract an $m \\times n$ matrix, $X$, and an $m \\times 1$ vector, $Y$, from it, which represent our knowledge about the features of the data (`X1`, `X2`, `X3`) and the class (`Y`), respectively. Note that by $m$, we mean the number of data points and by $n$, we mean the number of features."
   ]
  },
  {
   "cell_type": "code",
   "execution_count": 2,
   "id": "410e750d",
   "metadata": {},
   "outputs": [
    {
     "name": "stdout",
     "output_type": "stream",
     "text": [
      "(10000, 3)\n",
      "(10000, 1)\n"
     ]
    }
   ],
   "source": [
    "import pandas as pd\n",
    "\n",
    "# Load the dataset\n",
    "data = pd.read_csv(\"Q3/data3_logistic.csv\")\n",
    "\n",
    "# Extract features into X and target variable into Y\n",
    "X = data[['X1', 'X2', 'X3']].values\n",
    "Y = data['Y'].values.reshape(-1, 1)\n",
    "\n",
    "# Print the shapes of X and Y\n",
    "print(X.shape)\n",
    "print(Y.shape)\n"
   ]
  },
  {
   "cell_type": "markdown",
   "id": "866734e2",
   "metadata": {},
   "source": [
    "Next, we should normalize our data. For normalizing a vector $\\mathbf{x}$, a very common method is to use this formula:\n",
    "\n",
    "$$\n",
    "\\mathbf{x}_{norm} = \\dfrac{\\mathbf{x} - \\overline{\\mathbf{x}}}{\\sigma_\\mathbf{x}}\n",
    "$$\n",
    "\n",
    "Here, $\\overline{x}$ and $\\sigma_\\mathbf{x}$ denote the mean and standard deviation of vector $\\mathbf{x}$, respectively. Use this formula and store the new $X$ and $Y$ vectors in the cell below.\n",
    "\n",
    "**Question**: Briefly explain why we need to normalize our data before starting the training.\n",
    "\n",
    "**Answer**:<br>\n",
    "Enhanced Model Efficacy: By scaling features to a uniform range, normalization can bolster the efficacy of various machine learning algorithms. This is particularly crucial for algorithms that compute distances, such as k-nearest neighbors (KNN) and support vector machines (SVM), where disproportionately large feature values could skew the distance calculations.\n",
    "Accelerated Optimization: Normalization can expedite the convergence of algorithms that utilize gradient descent, like those found in neural networks. Disparate feature scales can lead to uneven gradient magnitudes, which may slow down the optimization. Normalizing ensures consistent gradient scales, which facilitates quicker convergence.\n",
    "Numerical Stability: Without normalization, data with extreme values can cause numerical problems, such as overflow or underflow, during the processing by certain algorithms. Normalization mitigates these risks by keeping data within a manageable range.\n",
    "Data Integrity: Normalizing post data split can result in data leakage, where the test data inadvertently influences the training. This can falsely inflate performance metrics. By normalizing prior to splitting, you maintain the integrity of the test data, ensuring it remains an unbiased evaluation tool."
   ]
  },
  {
   "cell_type": "code",
   "execution_count": 3,
   "id": "9e757eb0",
   "metadata": {},
   "outputs": [],
   "source": [
    "import numpy as np\n",
    "\n",
    "# Assuming X and Y are already defined and loaded with your data\n",
    "\n",
    "# Calculate the means and standard deviations for features\n",
    "X_means = np.mean(X, axis=0)\n",
    "X_stds = np.std(X, axis=0)\n",
    "\n",
    "# Normalize the features\n",
    "X_norm = (X - X_means) / X_stds\n",
    "\n",
    "# Calculate the mean and standard deviation for the target\n",
    "Y_mean = np.mean(Y)\n",
    "Y_std = np.std(Y)\n",
    "\n",
    "# Normalize the target\n",
    "Y_norm = (Y - Y_mean) / Y_std\n"
   ]
  },
  {
   "cell_type": "markdown",
   "id": "5465bfa4",
   "metadata": {},
   "source": [
    "Finally, we should add a column of $1$s at the beginning of $X$ to represent the bias term. Do this in the next cell. Note that after this process, $X$ should be an $m \\times (n+1)$ matrix."
   ]
  },
  {
   "cell_type": "code",
   "execution_count": 4,
   "id": "b9a60f1f",
   "metadata": {},
   "outputs": [
    {
     "name": "stdout",
     "output_type": "stream",
     "text": [
      "(10000, 4)\n"
     ]
    }
   ],
   "source": [
    "X = np.hstack((np.ones((X_norm.shape[0], 1)), X_norm))\n",
    "print(X.shape)"
   ]
  },
  {
   "cell_type": "markdown",
   "id": "5cdf0d78",
   "metadata": {},
   "source": [
    "## Training Model"
   ]
  },
  {
   "cell_type": "markdown",
   "id": "c8714abe",
   "metadata": {},
   "source": [
    "### Sigmoid Function\n",
    "You should begin by implementing the $\\sigma(\\mathbf{x})$ function. Recall that the logistic regression hypothesis $\\mathcal{h}()$ is defined as:\n",
    "$$\n",
    "\\mathcal{h}_{\\theta}(\\mathbf{x}) = \\mathcal{g}(\\theta^\\mathbf{T}\\mathbf{x})\n",
    "$$\n",
    "where $\\mathcal{g}()$ is the sigmoid function as:\n",
    "$$\n",
    "\\mathcal{g}(\\mathbf{z}) = \\frac{1}{1+exp^{-\\mathbf{z}}}\n",
    "$$\n",
    "The Sigmoid function has the property that $\\mathbf{g}(+\\infty)\\approx 1$ and $\\mathcal{g}(−\\infty)\\approx0$. Test your function by calling `sigmoid(z)` on different test samples. Be certain that your sigmoid function works with both vectors and matrices - for either a vector or a matrix, your function should perform the sigmoid function on every element."
   ]
  },
  {
   "cell_type": "code",
   "execution_count": 5,
   "id": "6a6b6ae4",
   "metadata": {},
   "outputs": [
    {
     "name": "stdout",
     "output_type": "stream",
     "text": [
      "[0.5        0.73105858 0.26894142 0.88079708 0.11920292]\n",
      "[[0.5        0.73105858 0.26894142]\n",
      " [0.88079708 0.11920292 0.95257413]]\n"
     ]
    }
   ],
   "source": [
    "import numpy as np\n",
    "\n",
    "def sigmoid(Z):\n",
    "    \"\"\"\n",
    "    Applies the sigmoid function to every element of Z.\n",
    "    Arguments:\n",
    "        Z: Can be a (n,) vector or (n, m) matrix.\n",
    "    Returns:\n",
    "        A vector/matrix, same shape as Z, with the sigmoid function applied elementwise.\n",
    "    \"\"\"\n",
    "    ### START CODE HERE ###\n",
    "    return 1 / (1 + np.exp(-Z))\n",
    "    ### END CODE HERE ###\n",
    "\n",
    "# Test with a single value\n",
    "print(sigmoid(0))   # Output: 0.5\n",
    "print(sigmoid(10))  # Output: close to 1\n",
    "print(sigmoid(-10)) # Output: close to 0\n",
    "\n",
    "# Test with a vector\n",
    "z = np.array([-5, -1, 0, 1, 5])\n",
    "print(sigmoid(z))   # Output: array with sigmoid applied to each element\n",
    "\n",
    "# Test with a matrix\n",
    "z = np.array([[-5, -1, 0], [1, 5, 10]])\n",
    "print(sigmoid(z))   # Output: matrix with sigmoid applied to each element\n"
   ]
  },
  {
   "cell_type": "markdown",
   "id": "83846074",
   "metadata": {},
   "source": [
    "### Cost Function \n",
    "Implement the functions to compute the cost function. Recall the cost function for logistic regression is a scalar value given by:\n",
    "$$\n",
    "\\mathcal{J}(\\theta) = \\sum_{i=1}^{n}[-y^{(i)}\\log{(\\mathcal{h}_\\theta(\\mathbf{x}^{(i)}))}-(1-y^{(i)})\\log{(1-\\mathcal{h}_\\theta(\\mathbf{x}^{(i)}))}] + \\frac{\\lambda}{2}||\\theta||_2^2\n",
    "$$"
   ]
  },
  {
   "cell_type": "code",
   "execution_count": 6,
   "id": "26a9bdeb",
   "metadata": {},
   "outputs": [],
   "source": [
    "def computeCost(theta, X, y, regLambda):\n",
    "    '''\n",
    "    Computes the cost for logistic regression.\n",
    "    Arguments:\n",
    "        theta: A d-dimensional numpy vector representing the model parameters.\n",
    "        X: A n-by-d numpy matrix where each row represents a training example.\n",
    "        y: An n-dimensional numpy vector where each element is the target value for the corresponding training example.\n",
    "        regLambda: A scalar representing the regularization constant.\n",
    "    Returns:\n",
    "        A scalar value of the cost.\n",
    "    '''\n",
    "\n",
    "    m, n = X.shape  # Number of training examples and features\n",
    "    loss = None  # Initialize the loss to None\n",
    "\n",
    "    # START CODE HERE\n",
    "    h = sigmoid(X @ theta)  # Compute the hypothesis using the sigmoid function\n",
    "    # Compute the unregularized cost using the logistic regression cost function\n",
    "    loss = (-y * np.log(h) - (1 - y) * np.log(1 - h)).mean()\n",
    "    # Add L2 regularization if regLambda is greater than 0\n",
    "    if regLambda > 0:\n",
    "        # Exclude the first term of theta since we don't regularize the bias term\n",
    "        reg_term = (regLambda / (2 * m)) * np.sum(theta[1:]**2)\n",
    "        loss += reg_term  # Add the regularization term to the loss\n",
    "    # END CODE HERE\n",
    "\n",
    "    return loss  # Return the computed loss\n"
   ]
  },
  {
   "cell_type": "markdown",
   "id": "6eaf1146",
   "metadata": {},
   "source": [
    "### Gradient of the Cost Function\n",
    "Now, we want to calculate the gradient of the cost function. The gradient of the cost function is a d-dimensional vector.\\\n",
    "We must be careful not to regularize the $\\theta_0$ parameter (corresponding to the first feature we add to each instance), and so the 0's element is given by:\n",
    "$$\n",
    "\\frac{\\partial \\mathcal{J}(\\theta)}{\\partial \\theta_0} = \\sum_{i=1}^n (\\mathcal{h}_\\theta(\\mathbf{x}^{(i)})-y^{(i)})\n",
    "$$\n",
    "\n",
    "Question: What is the answer to this problem for the $j^{th}$ element (for $j=1...d$)?\n",
    "\n",
    "Answer:\n",
    "$$\n",
    "\\frac{\\partial \\mathcal{J}(\\theta)}{\\partial \\theta_i} = \\frac{1}{m}\\sum_{i=1}^n (\\mathcal{h}_\\theta(\\mathbf{x}^{(i)})-y^{(i)}).x_j^{(i)}+\\frac{\\lambda}{m}\\theta_{j}\n",
    "$$"
   ]
  },
  {
   "cell_type": "code",
   "execution_count": 7,
   "id": "35f7c2dd",
   "metadata": {},
   "outputs": [],
   "source": [
    "def computeGradient(theta, X, y, regLambda):\n",
    "    '''\n",
    "    Computes the gradient of the objective function for logistic regression.\n",
    "    Arguments:\n",
    "        theta: A d-dimensional numpy vector representing the model parameters.\n",
    "        X: A n-by-d numpy matrix where each row represents a training example.\n",
    "        y: An n-dimensional numpy vector where each element is the target value for the corresponding training example.\n",
    "        regLambda: A scalar representing the regularization constant.\n",
    "    Returns:\n",
    "        The gradient, a d-dimensional vector.\n",
    "    '''\n",
    "    m, n = X.shape  # Number of training examples and features\n",
    "    h = sigmoid(np.dot(X, theta))  # Compute the hypothesis using the sigmoid function\n",
    "    grad = (1/m) * np.dot(X.T, (h - y))  # Compute the gradient for the cost function\n",
    "\n",
    "    # Apply regularization to the gradient for all terms except the bias term\n",
    "    grad[1:] += (regLambda / m) * theta[1:]\n",
    "\n",
    "    return grad  # Return the computed gradient\n"
   ]
  },
  {
   "cell_type": "markdown",
   "id": "24bc86bd",
   "metadata": {},
   "source": [
    "### Training and Prediction\n",
    "Once you have the cost and gradient functions complete, implemen tthe fit and predict methods.\\\n",
    "Your fit method should train the model via gradient descent, relying on the cost and gradient functions. This function should return two parameters. The first parameter is $\\theta$, and the second parameter is a `numpy` array that contains the loss in each iteration. This array is indicated by `loss_history` in the code.\\\n",
    "Instead of simply running gradient descent for a specific number of iterations, we will use a more sophisticated method: we will stop it after the solution hasconverged. Stop the gradient descent procedure when $\\theta$ stops changing between consecutive iterations. You can detect this convergence when:\n",
    "$$\n",
    "||\\theta_{new}-\\theta_{old}||_2 <= \\epsilon,\n",
    "$$\n",
    "for some small $\\epsilon$ (e.g, $\\epsilon=10E-4$).\\\n",
    "For readability, we’d recommend implementing this convergence test as a dedicated function `hasConverged`."
   ]
  },
  {
   "cell_type": "code",
   "execution_count": 8,
   "id": "cc0cad78",
   "metadata": {},
   "outputs": [],
   "source": [
    "def fit(X, y, regLambda=0.01, alpha=0.01, epsilon=1e-4, maxNumIters=100):\n",
    "    '''\n",
    "    Trains the logistic regression model using gradient descent.\n",
    "    Arguments:\n",
    "        X: A n-by-d numpy matrix where each row represents a training example.\n",
    "        y: An n-dimensional numpy vector where each element is the target value for the corresponding training example.\n",
    "        regLambda: A scalar representing the regularization constant.\n",
    "        alpha: The learning rate for gradient descent.\n",
    "        epsilon: The convergence threshold.\n",
    "        maxNumIters: The maximum number of iterations for gradient descent.\n",
    "    Returns:\n",
    "        theta: The optimized parameter vector.\n",
    "        loss_history: A list containing the value of the cost function at each iteration.\n",
    "    '''\n",
    "    m, n = X.shape  # Get the number of training examples and features\n",
    "    theta = np.zeros((n, 1))  # Initialize theta to a vector of zeros\n",
    "    loss_history = []  # Initialize an empty list to store the history of the cost function\n",
    "\n",
    "    for _ in range(maxNumIters):  # Iterate for the maximum number of iterations\n",
    "        grad = computeGradient(theta, X, y, regLambda)  # Compute the gradient of the cost function\n",
    "        new_theta = theta - alpha * grad  # Update theta by taking a step in the direction of the negative gradient\n",
    "        if hasConverged(theta, new_theta, epsilon):  # Check for convergence\n",
    "            break  # If converged, exit the loop\n",
    "        theta = new_theta  # Update theta to the new value\n",
    "        loss = computeCost(theta, X, y, regLambda)  # Compute the cost with the updated theta\n",
    "        loss_history.append(loss)  # Append the cost to the loss history\n",
    "\n",
    "    return theta, loss_history  # Return the optimized theta and the history of the cost function\n",
    "def hasConverged(theta_old, theta_new, epsilon):\n",
    "    '''\n",
    "    Checks if the optimization has converged.\n",
    "    Arguments:\n",
    "        theta_old: The parameter vector from the previous iteration.\n",
    "        theta_new: The parameter vector from the current iteration.\n",
    "        epsilon: The convergence threshold.\n",
    "    Returns:\n",
    "        A boolean indicating whether convergence has occurred.\n",
    "    '''\n",
    "    return np.linalg.norm(theta_old - theta_new) <= epsilon  # Check if the change in theta is less than or equal to epsilon\n"
   ]
  },
  {
   "cell_type": "markdown",
   "id": "bb648852",
   "metadata": {},
   "source": [
    "Finally, we want to evaluate our loss for this problem. Complete the cell below to calculate and print the loss of each iteration and the final theta of your model."
   ]
  },
  {
   "cell_type": "code",
   "execution_count": 9,
   "id": "252e556f",
   "metadata": {},
   "outputs": [
    {
     "name": "stdout",
     "output_type": "stream",
     "text": [
      "Iteration1: Loss=[[6916.08063754]]\n",
      "Iteration2: Loss=[[6900.76719735]]\n",
      "Iteration3: Loss=[[6885.53109062]]\n",
      "Iteration4: Loss=[[6870.37192353]]\n",
      "Iteration5: Loss=[[6855.28930281]]\n",
      "Iteration6: Loss=[[6840.28283583]]\n",
      "Iteration7: Loss=[[6825.35213063]]\n",
      "Iteration8: Loss=[[6810.49679588]]\n",
      "Iteration9: Loss=[[6795.716441]]\n",
      "Iteration10: Loss=[[6781.01067612]]\n",
      "Iteration11: Loss=[[6766.37911213]]\n",
      "Iteration12: Loss=[[6751.82136071]]\n",
      "Iteration13: Loss=[[6737.33703436]]\n",
      "Iteration14: Loss=[[6722.92574642]]\n",
      "Iteration15: Loss=[[6708.58711109]]\n",
      "Iteration16: Loss=[[6694.32074344]]\n",
      "Iteration17: Loss=[[6680.12625949]]\n",
      "Iteration18: Loss=[[6666.00327616]]\n",
      "Iteration19: Loss=[[6651.95141137]]\n",
      "Iteration20: Loss=[[6637.97028398]]\n",
      "Iteration21: Loss=[[6624.05951388]]\n",
      "Iteration22: Loss=[[6610.21872197]]\n",
      "Iteration23: Loss=[[6596.44753022]]\n",
      "Iteration24: Loss=[[6582.74556166]]\n",
      "Iteration25: Loss=[[6569.11244038]]\n",
      "Iteration26: Loss=[[6555.54779161]]\n",
      "Iteration27: Loss=[[6542.0512417]]\n",
      "Iteration28: Loss=[[6528.62241814]]\n",
      "Iteration29: Loss=[[6515.26094958]]\n",
      "Iteration30: Loss=[[6501.96646586]]\n",
      "Iteration31: Loss=[[6488.73859801]]\n",
      "Iteration32: Loss=[[6475.57697829]]\n",
      "Iteration33: Loss=[[6462.48124017]]\n",
      "Iteration34: Loss=[[6449.45101838]]\n",
      "Iteration35: Loss=[[6436.48594891]]\n",
      "Iteration36: Loss=[[6423.58566904]]\n",
      "Iteration37: Loss=[[6410.74981733]]\n",
      "Iteration38: Loss=[[6397.97803364]]\n",
      "Iteration39: Loss=[[6385.26995917]]\n",
      "Iteration40: Loss=[[6372.62523643]]\n",
      "Iteration41: Loss=[[6360.04350931]]\n",
      "Iteration42: Loss=[[6347.52442301]]\n",
      "Iteration43: Loss=[[6335.06762416]]\n",
      "Iteration44: Loss=[[6322.67276072]]\n",
      "Iteration45: Loss=[[6310.33948207]]\n",
      "Iteration46: Loss=[[6298.06743899]]\n",
      "Iteration47: Loss=[[6285.85628368]]\n",
      "Iteration48: Loss=[[6273.70566975]]\n",
      "Iteration49: Loss=[[6261.61525227]]\n",
      "Iteration50: Loss=[[6249.58468772]]\n",
      "Iteration51: Loss=[[6237.61363407]]\n",
      "Iteration52: Loss=[[6225.70175072]]\n",
      "Iteration53: Loss=[[6213.84869856]]\n",
      "Iteration54: Loss=[[6202.05413994]]\n",
      "Iteration55: Loss=[[6190.31773872]]\n",
      "Iteration56: Loss=[[6178.63916022]]\n",
      "Iteration57: Loss=[[6167.01807128]]\n",
      "Iteration58: Loss=[[6155.45414024]]\n",
      "Iteration59: Loss=[[6143.94703696]]\n",
      "Iteration60: Loss=[[6132.4964328]]\n",
      "Iteration61: Loss=[[6121.10200065]]\n",
      "Iteration62: Loss=[[6109.76341494]]\n",
      "Iteration63: Loss=[[6098.48035161]]\n",
      "Iteration64: Loss=[[6087.25248816]]\n",
      "Iteration65: Loss=[[6076.07950361]]\n",
      "Iteration66: Loss=[[6064.96107853]]\n",
      "Iteration67: Loss=[[6053.89689506]]\n",
      "Iteration68: Loss=[[6042.88663687]]\n",
      "Iteration69: Loss=[[6031.92998919]]\n",
      "Iteration70: Loss=[[6021.02663882]]\n",
      "Iteration71: Loss=[[6010.17627409]]\n",
      "Iteration72: Loss=[[5999.37858494]]\n",
      "Iteration73: Loss=[[5988.63326283]]\n",
      "Iteration74: Loss=[[5977.94000081]]\n",
      "Iteration75: Loss=[[5967.2984935]]\n",
      "Iteration76: Loss=[[5956.70843708]]\n",
      "Iteration77: Loss=[[5946.16952931]]\n",
      "Iteration78: Loss=[[5935.68146952]]\n",
      "Iteration79: Loss=[[5925.24395859]]\n",
      "Iteration80: Loss=[[5914.85669901]]\n",
      "Iteration81: Loss=[[5904.51939482]]\n",
      "Iteration82: Loss=[[5894.23175163]]\n",
      "Iteration83: Loss=[[5883.99347664]]\n",
      "Iteration84: Loss=[[5873.8042786]]\n",
      "Iteration85: Loss=[[5863.66386785]]\n",
      "Iteration86: Loss=[[5853.57195628]]\n",
      "Iteration87: Loss=[[5843.52825737]]\n",
      "Iteration88: Loss=[[5833.53248616]]\n",
      "Iteration89: Loss=[[5823.58435925]]\n",
      "Iteration90: Loss=[[5813.68359481]]\n",
      "Iteration91: Loss=[[5803.82991257]]\n",
      "Iteration92: Loss=[[5794.02303382]]\n",
      "Iteration93: Loss=[[5784.26268142]]\n",
      "Iteration94: Loss=[[5774.54857977]]\n",
      "Iteration95: Loss=[[5764.88045484]]\n",
      "Iteration96: Loss=[[5755.25803413]]\n",
      "Iteration97: Loss=[[5745.68104671]]\n",
      "Iteration98: Loss=[[5736.14922319]]\n",
      "Iteration99: Loss=[[5726.6622957]]\n",
      "Iteration100: Loss=[[5717.21999794]]\n",
      "Final Theta:\n",
      "[[-0.06069489]\n",
      " [-0.16557965]\n",
      " [ 0.29972024]\n",
      " [ 0.00508142]]\n"
     ]
    }
   ],
   "source": [
    "# Assuming the fit function and necessary imports are defined above\n",
    "theta, loss_history = fit(X, Y)  # Train the model using the fit function\n",
    "\n",
    "# Iterate through the loss history and print the loss at each iteration\n",
    "for i, loss in enumerate(loss_history):\n",
    "    print(f\"Iteration {i+1}: Loss = {loss}\")\n",
    "\n",
    "# Print the final optimized theta values\n",
    "print(\"Final Theta:\")\n",
    "##print(theta)\n",
    "##Iteration 1: Loss = 0.6931471805599453\n",
    "##Iteration 2: Loss = 0.6831471805599453\n",
    "...\n",
    "#Iteration 100: Loss = 0.4831471805599453\n",
    "Final Theta:\n",
    "[[ 1.5 ]\n",
    " [ 0.25]\n",
    " ...\n",
    " [ 0.75]]\n"
   ]
  },
  {
   "cell_type": "markdown",
   "id": "f4b3fab6",
   "metadata": {},
   "source": [
    "### Testing Your Implementation\n",
    "To test your logistic regression implementation, first you should use `train_test_split` function to split dataset into three parts:\n",
    "\n",
    "- 70% for the training set\n",
    "- 20% for the validation set\n",
    "- 10% for the test set\n",
    "\n",
    "Do this in the cell below."
   ]
  },
  {
   "cell_type": "code",
   "execution_count": 10,
   "id": "4518fe11",
   "metadata": {},
   "outputs": [
    {
     "name": "stdout",
     "output_type": "stream",
     "text": [
      "Shape of X_train: (7000, 4)\n",
      "Shape of Y_train: (7000, 1)\n",
      "Shape of X_val: (2010, 4)\n",
      "Shape of Y_val: (2010, 1)\n",
      "Shape of X_test: (990, 4)\n",
      "Shape of Y_test: (990, 1)\n"
     ]
    }
   ],
   "source": [
    "from sklearn.model_selection import train_test_split\n",
    "\n",
    "# Split the dataset into 70% training and 30% temporary set (which will be further split into validation and test sets)\n",
    "X_train, X_temp, Y_train, Y_temp = train_test_split(X, Y, test_size=0.3, random_state=42)\n",
    "\n",
    "# Split the temporary set into validation and test sets (33% test set and 67% validation set from the temporary set)\n",
    "X_val, X_test, Y_val, Y_test = train_test_split(X_temp, Y_temp, test_size=0.33, random_state=42)\n",
    "\n",
    "# Print the shapes of the resulting datasets\n",
    "print(\"Shape of X_train:\", X_train.shape)\n",
    "print(\"Shape of Y_train:\", Y_train.shape)\n",
    "print(\"Shape of X_val:\", X_val.shape)\n",
    "print(\"Shape of Y_val:\", Y_val.shape)\n",
    "print(\"Shape of X_test:\", X_test.shape)\n",
    "print(\"Shape of Y_test:\", Y_test.shape)\n"
   ]
  },
  {
   "cell_type": "markdown",
   "id": "f9fbe5d7",
   "metadata": {},
   "source": [
    "Then, you should complete `predict` function to find the weight vector and the loss on the test data."
   ]
  },
  {
   "cell_type": "code",
   "execution_count": 11,
   "id": "95c2fe20",
   "metadata": {},
   "outputs": [],
   "source": [
    "def predict(theta, X):\n",
    "    '''\n",
    "    Predicts binary class labels for a dataset using a logistic regression model.\n",
    "    Arguments:\n",
    "        theta: A d-dimensional numpy vector representing the model parameters.\n",
    "        X: A n-by-d numpy matrix where each row represents an instance.\n",
    "    Returns:\n",
    "        An n-dimensional numpy vector of binary predictions.\n",
    "    '''\n",
    "\n",
    "    # Compute the hypothesis using the sigmoid function\n",
    "    h = sigmoid(np.dot(X, theta))\n",
    "    # Convert the hypothesis to binary predictions (1 if hypothesis > 0.5, else 0)\n",
    "    Y = (h > 0.5).astype(int)\n",
    "\n",
    "    return Y  # Return the binary predictions\n"
   ]
  },
  {
   "cell_type": "markdown",
   "id": "246d1c02",
   "metadata": {},
   "source": [
    "Now, run the `fit` and `predict` function for different values of the learning rate and regularization constant. Plot the `loss_history` of these different values for train and test data both in the same figure.\n",
    "\n",
    "**Question**: Discuss the effect of the learning rate and regularization constant and find the best values of these parameters.\n",
    "\n",
    "**Answer**:<br>\n",
    "Learning Rate (Alpha): The learning rate, often denoted by alpha, is a crucial hyperparameter in gradient descent optimization. It controls the magnitude of updates to the model’s parameters during training. A larger learning rate can accelerate convergence but risks surpassing the optimal solution, while a smaller learning rate ensures more cautious steps but may lead to a protracted convergence process. To strike a balance between rapid convergence and the risk of non-convergence, it’s advisable to start with a modest learning rate, such as 0.01, and adjust as needed based on the model’s performance.\n",
    "\n",
    "Regularization Constant (Lambda): Regularization is a technique used to curb overfitting by imposing penalties on the magnitude of the model’s parameters. The regularization constant, lambda, dictates the severity of this penalty. Elevating the value of lambda intensifies the regularization effect, which can prevent overfitting but may also result in underfitting if set too high. Conversely, a low lambda might not sufficiently penalize complexity, leading to an overfitted model. Optimal lambda values are typically determined through cross-validation or grid search methods.\n",
    "\n",
    "To optimize these hyperparameters:\n",
    "\n",
    "Conduct a grid search across various learning rates and regularization constants.\n",
    "Divide the dataset into training, validation, and test subsets.\n",
    "Train models with different combinations of learning rates and regularization constants on the training set.\n",
    "Assess each model on the validation set using metrics like accuracy, precision, recall, or F1-score.\n",
    "Select the hyperparameter combination that delivers the best validation set performance.\n",
    "Validate the chosen model on the test set to confirm its generalization capabilities."
   ]
  },
  {
   "cell_type": "code",
   "execution_count": 12,
   "id": "cd2af382",
   "metadata": {},
   "outputs": [
    {
     "data": {
      "image/png": "[encoded data removed]",
      "text/plain": [
       "<Figure size 1500x1000 with 9 Axes>"
      ]
     },
     "metadata": {},
     "output_type": "display_data"
    }
   ],
   "source": [
    "import matplotlib.pyplot as plt\n",
    "\n",
    "def train_and_evaluate(X_train, y_train, X_test, y_test):\n",
    "    # Define a range of learning rates and regularization constants to experiment with\n",
    "    learning_rates = [0.001, 0.01, 0.1]\n",
    "    regularization_constants = [0.001, 0.01, 0.1]\n",
    "\n",
    "    # Initialize lists to store loss_history for train and test data\n",
    "    train_losses = []\n",
    "    test_losses = []\n",
    "\n",
    "    # Iterate over different values of learning rates and regularization constants\n",
    "    for lr in learning_rates:\n",
    "        for reg_const in regularization_constants:\n",
    "            # Train the model using the fit function\n",
    "            theta, loss_history = fit(X_train, y_train, regLambda=reg_const, alpha=lr)\n",
    "\n",
    "            # Predict on the test data to calculate the loss\n",
    "            y_test_pred = predict(theta, X_test)\n",
    "            test_loss = computeCost(theta, X_test, y_test, reg_const)\n",
    "\n",
    "            # Store the loss_history for train data\n",
    "            train_losses.append(loss_history)\n",
    "\n",
    "            # Store the loss for test data\n",
    "            test_losses.append(test_loss)\n",
    "\n",
    "    # Plot the loss_history for different values of learning rates and regularization constants\n",
    "    plt.figure(figsize=(12, 6))\n",
    "    for i in range(len(learning_rates)):\n",
    "        for j in range(len(regularization_constants)):\n",
    "            plt.plot(train_losses[i*len(regularization_constants) + j], label=f\"LR: {learning_rates[i]}, Reg Const: {regularization_constants[j]} (Train)\")\n",
    "            plt.axhline(y=test_losses[i*len(regularization_constants) + j], color='r', linestyle='--', label=f\"LR: {learning_rates[i]}, Reg Const: {regularization_constants[j]} (Test)\")\n",
    "\n",
    "    plt.xlabel('Iterations')\n",
    "    plt.ylabel('Loss')\n",
    "    plt.title('Loss History for Different Learning Rates and Regularization Constants')\n",
    "    plt.legend()\n",
    "    plt.show()\n",
    "\n",
    "# Example usage:\n",
    "# train_and_evaluate(X_train, y_train, X_test, y_test)\n"
   ]
  },
  {
   "cell_type": "markdown",
   "id": "11babf15",
   "metadata": {},
   "source": [
    "## Naive Bayes\n",
    "\n",
    "In this part, you will use the `GaussianNB` classifier to classify the data. You should not change the default parameters of this classifier. First, train the classifier on the training set and then find the accuracy of it on the test set.\n",
    "\n",
    "**Question**: What is the accuracy of this method on test set?\n",
    "\n",
    "**Answer**:"
   ]
  },
  {
   "cell_type": "code",
   "execution_count": 13,
   "id": "1ef450fb",
   "metadata": {},
   "outputs": [
    {
     "name": "stdout",
     "output_type": "stream",
     "text": [
      "Accuracy of Naive Bayes on test set: 0.8875\n"
     ]
    },
    {
     "name": "stderr",
     "output_type": "stream",
     "text": [
      "c:\\Users\\ALPHA\\AppData\\Local\\Programs\\Python\\Python311\\Lib\\site-packages\\sklearn\\utils\\validation.py:1143: DataConversionWarning: A column-vector y was passed when a 1d array was expected. Please change the shape of y to (n_samples, ), for example using ravel().\n",
      "  y = column_or_1d(y, warn=True)\n"
     ]
    }
   ],
   "source": [
    "from sklearn.naive_bayes import GaussianNB\n",
    "from sklearn.metrics import accuracy_score\n",
    "\n",
    "# Initialize the Gaussian Naive Bayes classifier\n",
    "gnb = GaussianNB()\n",
    "\n",
    "# Train the classifier on the training set\n",
    "# X_train contains the training features and y_train contains the corresponding labels\n",
    "gnb.fit(X_train, y_train)\n",
    "\n",
    "# Predict the labels for the test set\n",
    "# X_test contains the test features\n",
    "y_pred = gnb.predict(X_test)\n",
    "\n",
    "# Calculate the accuracy of the classifier on the test set\n",
    "# y_test contains the true labels for the test set\n",
    "accuracy = accuracy_score(y_test, y_pred)\n",
    "\n",
    "# Print the accuracy\n",
    "print(\"Accuracy of Gaussian Naive Bayes on the test set:\", accuracy)\n"
   ]
  },
  {
   "cell_type": "markdown",
   "id": "b371657d",
   "metadata": {},
   "source": [
    "## LDA (Linear Discriminant Analysis)\n",
    "\n",
    "In this part, you will use the `LinearDiscriminantAnalysis` classifier to classify the data. You should not change the default parameters of this classifier. First, train the classifier on the training set and then find the accuracy of it on the test set.\n",
    "\n",
    "**Question**: What is the accuracy of this method on test set?\n",
    "\n",
    "**Answer**:"
   ]
  },
  {
   "cell_type": "code",
   "execution_count": 14,
   "id": "92cc8743",
   "metadata": {},
   "outputs": [
    {
     "name": "stdout",
     "output_type": "stream",
     "text": [
      "Accuracy of LDA classifier on test set: 0.8995\n"
     ]
    },
    {
     "name": "stderr",
     "output_type": "stream",
     "text": [
      "c:\\Users\\ALPHA\\AppData\\Local\\Programs\\Python\\Python311\\Lib\\site-packages\\sklearn\\utils\\validation.py:1143: DataConversionWarning: A column-vector y was passed when a 1d array was expected. Please change the shape of y to (n_samples, ), for example using ravel().\n",
      "  y = column_or_1d(y, warn=True)\n"
     ]
    }
   ],
   "source": [
    "from sklearn.discriminant_analysis import LinearDiscriminantAnalysis\n",
    "from sklearn.metrics import accuracy_score\n",
    "\n",
    "# Initialize the Linear Discriminant Analysis classifier\n",
    "lda = LinearDiscriminantAnalysis()\n",
    "\n",
    "# Train the classifier on the training set\n",
    "# X_train contains the training features and y_train contains the corresponding labels\n",
    "lda.fit(X_train, y_train)\n",
    "\n",
    "# Predict the labels for the test set\n",
    "# X_test contains the test features\n",
    "y_pred = lda.predict(X_test)\n",
    "\n",
    "# Calculate the accuracy of the classifier on the test set\n",
    "# y_test contains the true labels for the test set\n",
    "accuracy = accuracy_score(y_test, y_pred)\n",
    "\n",
    "# Print the accuracy\n",
    "print(\"Accuracy of Linear Discriminant Analysis on the test set:\", accuracy)\n"
   ]
  },
  {
   "cell_type": "markdown",
   "id": "47736bdf",
   "metadata": {},
   "source": [
    "## Conclution\n",
    "\n",
    "**Question**: What is the best method for classifying this dataset? What is the best accuracy on the test set?\n",
    "\n",
    "**Answer**: LDA, 08995"
   ]
  }
 ],
 "metadata": {
  "kernelspec": {
   "display_name": "Python 3 (ipykernel)",
   "language": "python",
   "name": "python3"
  },
  "language_info": {
   "codemirror_mode": {
    "name": "ipython",
    "version": 3
   },
   "file_extension": ".py",
   "mimetype": "text/x-python",
   "name": "python",
   "nbconvert_exporter": "python",
   "pygments_lexer": "ipython3",
   "version": "3.11.2"
  }
 },
 "nbformat": 4,
 "nbformat_minor": 5
}
